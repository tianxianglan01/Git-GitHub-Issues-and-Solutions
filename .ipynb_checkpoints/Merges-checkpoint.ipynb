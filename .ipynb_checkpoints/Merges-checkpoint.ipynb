{
 "cells": [
  {
   "cell_type": "markdown",
   "id": "4b847635",
   "metadata": {},
   "source": [
    "### 'There isn’t anything to compare. main and master are entirely different commit histories.'\n",
    "\n",
    "Background: \n",
    "- have a local project that has not been attached to a github repository. \n",
    "- want to save local project on github\n",
    "\n",
    "Initial Steps: \n",
    "- create a github repository\n",
    "- git init 'on local project'\n",
    "- git remote add origin 'github repository url'\n",
    "- git add .\n",
    "- git commit -m 'message to commit'\n",
    "- git push origin master\n",
    "\n",
    "Issue:\n",
    "- can't merge commited files and the original 'main' branch on github \n",
    "- error is the one shown above \n",
    "- error is because the local branch 'master' and the remote branch 'main' do not share commit histories. Can't merge branches which do not share the same commit histories\n",
    "\n",
    "Solution:\n",
    "- git checkout master\n",
    "- git branch main master -f\n",
    "- git branch \n",
    "- git checkout main\n",
    "- git push origin main -f 'where -f means force even if the working tree differes from head\n"
   ]
  },
  {
   "cell_type": "code",
   "execution_count": null,
   "id": "dcd26eac",
   "metadata": {},
   "outputs": [],
   "source": []
  }
 ],
 "metadata": {
  "kernelspec": {
   "display_name": "Python 3 (ipykernel)",
   "language": "python",
   "name": "python3"
  },
  "language_info": {
   "codemirror_mode": {
    "name": "ipython",
    "version": 3
   },
   "file_extension": ".py",
   "mimetype": "text/x-python",
   "name": "python",
   "nbconvert_exporter": "python",
   "pygments_lexer": "ipython3",
   "version": "3.9.6"
  }
 },
 "nbformat": 4,
 "nbformat_minor": 5
}
